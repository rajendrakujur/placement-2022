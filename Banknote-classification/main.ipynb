{
  "cells": [
    {
      "cell_type": "markdown",
      "metadata": {
        "id": "d7sJSZs-6lZG"
      },
      "source": [
        "# Bank Note Classification Using Multi Kernel SVM Learning"
      ]
    },
    {
      "cell_type": "markdown",
      "metadata": {
        "id": "Zq5Uc5sx6lZL"
      },
      "source": [
        "Importing all the necessary libraries"
      ]
    },
    {
      "cell_type": "code",
      "execution_count": null,
      "metadata": {
        "id": "R4ONuBU56lZM"
      },
      "outputs": [],
      "source": [
        "import pandas as pd\n",
        "import numpy as np\n",
        "from sklearn.model_selection import train_test_split\n",
        "from sklearn.svm import SVC\n",
        "from prettytable import PrettyTable\n",
        "import math\n",
        "import warnings\n",
        "warnings.filterwarnings(\"ignore\")"
      ]
    },
    {
      "cell_type": "code",
      "execution_count": null,
      "metadata": {
        "id": "aqa6lxth6lZP",
        "outputId": "ee19d45b-fa20-4a2e-d052-ebfde1010a4b"
      },
      "outputs": [
        {
          "data": {
            "text/html": [
              "<div>\n",
              "<style scoped>\n",
              "    .dataframe tbody tr th:only-of-type {\n",
              "        vertical-align: middle;\n",
              "    }\n",
              "\n",
              "    .dataframe tbody tr th {\n",
              "        vertical-align: top;\n",
              "    }\n",
              "\n",
              "    .dataframe thead th {\n",
              "        text-align: right;\n",
              "    }\n",
              "</style>\n",
              "<table border=\"1\" class=\"dataframe\">\n",
              "  <thead>\n",
              "    <tr style=\"text-align: right;\">\n",
              "      <th></th>\n",
              "      <th>Wavelet Variance</th>\n",
              "      <th>Wavelet Skewness</th>\n",
              "      <th>Wavelet Curtosis</th>\n",
              "      <th>Image Entropy</th>\n",
              "      <th>Label</th>\n",
              "    </tr>\n",
              "  </thead>\n",
              "  <tbody>\n",
              "    <tr>\n",
              "      <th>0</th>\n",
              "      <td>3.62160</td>\n",
              "      <td>8.6661</td>\n",
              "      <td>-2.8073</td>\n",
              "      <td>-0.44699</td>\n",
              "      <td>0</td>\n",
              "    </tr>\n",
              "    <tr>\n",
              "      <th>1</th>\n",
              "      <td>4.54590</td>\n",
              "      <td>8.1674</td>\n",
              "      <td>-2.4586</td>\n",
              "      <td>-1.46210</td>\n",
              "      <td>0</td>\n",
              "    </tr>\n",
              "    <tr>\n",
              "      <th>2</th>\n",
              "      <td>3.86600</td>\n",
              "      <td>-2.6383</td>\n",
              "      <td>1.9242</td>\n",
              "      <td>0.10645</td>\n",
              "      <td>0</td>\n",
              "    </tr>\n",
              "    <tr>\n",
              "      <th>3</th>\n",
              "      <td>3.45660</td>\n",
              "      <td>9.5228</td>\n",
              "      <td>-4.0112</td>\n",
              "      <td>-3.59440</td>\n",
              "      <td>0</td>\n",
              "    </tr>\n",
              "    <tr>\n",
              "      <th>4</th>\n",
              "      <td>0.32924</td>\n",
              "      <td>-4.4552</td>\n",
              "      <td>4.5718</td>\n",
              "      <td>-0.98880</td>\n",
              "      <td>0</td>\n",
              "    </tr>\n",
              "  </tbody>\n",
              "</table>\n",
              "</div>"
            ],
            "text/plain": [
              "   Wavelet Variance  Wavelet Skewness  Wavelet Curtosis  Image Entropy  Label\n",
              "0           3.62160            8.6661           -2.8073       -0.44699      0\n",
              "1           4.54590            8.1674           -2.4586       -1.46210      0\n",
              "2           3.86600           -2.6383            1.9242        0.10645      0\n",
              "3           3.45660            9.5228           -4.0112       -3.59440      0\n",
              "4           0.32924           -4.4552            4.5718       -0.98880      0"
            ]
          },
          "execution_count": 2,
          "metadata": {},
          "output_type": "execute_result"
        }
      ],
      "source": [
        "# Reading the file\n",
        "df = pd.read_csv('./data_banknote_authentication.txt', header=None)\n",
        "\n",
        "# renaming the features for better understanding\n",
        "df = df.set_axis(['Wavelet Variance', 'Wavelet Skewness', 'Wavelet Curtosis', 'Image Entropy', 'Label'], axis=1,inplace=False)\n",
        "\n",
        "# glimpse of the dataframe\n",
        "df.head()"
      ]
    },
    {
      "cell_type": "code",
      "execution_count": null,
      "metadata": {
        "id": "yEHNh9jy6lZR"
      },
      "outputs": [],
      "source": [
        "# Seperating features and their lables\n",
        "X = df.iloc[:,:4]\n",
        "y = df.iloc[:,4]"
      ]
    },
    {
      "cell_type": "markdown",
      "metadata": {
        "id": "Sm8e1c9w6lZS"
      },
      "source": [
        "Train Test splitting the data"
      ]
    },
    {
      "cell_type": "code",
      "execution_count": null,
      "metadata": {
        "id": "k1TUCErj6lZS"
      },
      "outputs": [],
      "source": [
        "X_train, X_test, y_train, y_test = train_test_split(X, y, test_size = 0.40, random_state=8)"
      ]
    },
    {
      "cell_type": "code",
      "execution_count": null,
      "metadata": {
        "id": "-eXlZ44K6lZT"
      },
      "outputs": [],
      "source": [
        "X_train = X_train.to_numpy()\n",
        "y_train = y_train.to_numpy()\n",
        "y_test = y_test.to_numpy()\n",
        "X_test = X_test.to_numpy()\n",
        "np.random.seed(45)"
      ]
    },
    {
      "cell_type": "markdown",
      "metadata": {
        "id": "u_DFdJza6lZT"
      },
      "source": [
        "Linear SVM"
      ]
    },
    {
      "cell_type": "code",
      "execution_count": null,
      "metadata": {
        "id": "VLg9oXHi6lZT"
      },
      "outputs": [],
      "source": [
        "def linearSVM(X_train, y_train, X_test, y_test, C):\n",
        "    classifier = SVC(C=C, kernel = 'linear')\n",
        "    classifier.fit(X_train, y_train)\n",
        "\n",
        "    # adding results to myTable\n",
        "    myTable.add_row(['Linear', f'{C}', 'Not Applicable', \\\n",
        "        f'{classifier.score(X_test, y_test):.4f}'])"
      ]
    },
    {
      "cell_type": "markdown",
      "metadata": {
        "id": "8jNmqWIc6lZU"
      },
      "source": [
        "Polynomial SVM"
      ]
    },
    {
      "cell_type": "code",
      "execution_count": null,
      "metadata": {
        "id": "4cTNX5rX6lZU"
      },
      "outputs": [],
      "source": [
        "def polynomialSVM(X_train, y_train, X_test, y_test, C, degree):\n",
        "    classifier = SVC(C=C, kernel = 'poly', degree=degree)\n",
        "    classifier.fit(X_train, y_train)\n",
        "\n",
        "    # adding results to myTable\n",
        "    myTable.add_row(['Polynomial', f'{C}', f'{degree}',\\\n",
        "        f'{classifier.score(X_test, y_test):.4f}'])"
      ]
    },
    {
      "cell_type": "markdown",
      "metadata": {
        "id": "KQDFjpQ66lZV"
      },
      "source": [
        "RBF SVM"
      ]
    },
    {
      "cell_type": "code",
      "execution_count": null,
      "metadata": {
        "id": "OOa3ddGd6lZW"
      },
      "outputs": [],
      "source": [
        "def rbfSVM(X_train, y_train, X_test, y_test, C):\n",
        "    classifier = SVC(C=C, kernel = 'rbf')\n",
        "    classifier.fit(X_train, y_train)\n",
        "\n",
        "    # adding results to myTable\n",
        "    myTable.add_row(['rbf', f'{C}', 'Not Applicable', \\\n",
        "        f'{classifier.score(X_test, y_test):.4f}'])"
      ]
    },
    {
      "cell_type": "markdown",
      "metadata": {
        "id": "B48y40Xa6lZX"
      },
      "source": [
        "Sigmoid SVM"
      ]
    },
    {
      "cell_type": "code",
      "execution_count": null,
      "metadata": {
        "id": "0dCuDWll6lZX"
      },
      "outputs": [],
      "source": [
        "def sigmoidSVM(X_train, y_train, X_test, y_test, C):\n",
        "    classifier = SVC(C=C, kernel = 'sigmoid')\n",
        "    classifier.fit(X_train, y_train)\n",
        "\n",
        "    # adding results to myTable\n",
        "    myTable.add_row(['sigmoid', f'{C}', 'Not Applicable', \\\n",
        "        f'{classifier.score(X_test, y_test):.4f}'])"
      ]
    },
    {
      "cell_type": "markdown",
      "metadata": {
        "id": "qRPyMY_h6lZY"
      },
      "source": [
        "Precomputed SVM"
      ]
    },
    {
      "cell_type": "code",
      "execution_count": null,
      "metadata": {
        "id": "rbOqSHZ46lZY"
      },
      "outputs": [],
      "source": [
        "def precomputedSVM(X_train, y_train, X_test, y_test, C):\n",
        "    new_train = np.dot(X_train, X_train.T)\n",
        "    new_test = np.dot(X_test, X_train.T)\n",
        "    classifier = SVC(C=C, kernel = 'precomputed')\n",
        "    classifier.fit(new_train, y_train)\n",
        "    \n",
        "    # adding results to myTable\n",
        "    myTable.add_row(['Precomputed', f'{C}', 'Not Applicable', \\\n",
        "        f'{classifier.score(new_test, y_test):.4f}'])"
      ]
    },
    {
      "cell_type": "markdown",
      "metadata": {
        "id": "7s34ysS86lZZ"
      },
      "source": [
        "Multi Kernel SVM (linear combination of Linear, rbf and polynomial kernel)"
      ]
    },
    {
      "cell_type": "code",
      "execution_count": null,
      "metadata": {
        "id": "CNI-WqmL6lZa"
      },
      "outputs": [],
      "source": [
        "# user defined function for polynomial kernel\n",
        "def polynomial(u, v):\n",
        "    return (np.dot(u, v) )**2\n",
        "\n",
        "# user defined function for rbf kernel\n",
        "def rbf(u, v):\n",
        "    w = u - v\n",
        "    return math.exp( -3 * np.dot(w, w))\n",
        "\n",
        "# user defined function for Mutli-kernel\n",
        "def multikernel(X_train,y):\n",
        "    \n",
        "    #linear Kernel\n",
        "    k1=np.dot(X_train, y.T)\n",
        "\n",
        "    #rbf kernel\n",
        "    k2 = np.zeros((X_train.shape[0], y.shape[0]))\n",
        "    for n, x_n in enumerate(X_train):\n",
        "        for m, x_m in enumerate(y):\n",
        "            k2[n,m] = rbf(x_n, x_m)\n",
        "\n",
        "    # polynomial kernel\n",
        "    k3=np.zeros((X_train.shape[0], y.shape[0]))\n",
        "    for n, x_n in enumerate(X_train):\n",
        "        for m, x_m in enumerate(y):\n",
        "            k3[n,m] = polynomial(x_n, x_m)\n",
        "\n",
        "    # taking linear combination of all the kernels\n",
        "    a = np.random.random()\n",
        "    b = np.random.random()\n",
        "    c = (1-a-b)\n",
        "    return a*k1 + b*k2+ c*k3"
      ]
    },
    {
      "cell_type": "code",
      "execution_count": null,
      "metadata": {
        "id": "qY05TbBw6lZa"
      },
      "outputs": [],
      "source": [
        "def mklSVM(X_train, y_train, X_test, y_test, C):\n",
        "    classifier = SVC(C=C,kernel=multikernel)\n",
        "    classifier.fit(X_train, y_train)\n",
        "\n",
        "    # adding results to myTable\n",
        "    myTable.add_row(['MultiKernel', f'{C}', 'Not Applicable', \\\n",
        "        f'{classifier.score(X_test, y_test):.4f}'])"
      ]
    },
    {
      "cell_type": "markdown",
      "metadata": {
        "id": "n4RNGJUD6lZb"
      },
      "source": [
        "Calling every kernel learning algorithm"
      ]
    },
    {
      "cell_type": "code",
      "execution_count": null,
      "metadata": {
        "id": "znw2X_kA6lZc"
      },
      "outputs": [],
      "source": [
        "def multiKernelSVM(X_train, y_train, X_test, y_test, C, degree):\n",
        "    linearSVM(X_train, y_train, X_test, y_test,C)\n",
        "    polynomialSVM(X_train, y_train, X_test, y_test, C, degree)\n",
        "    rbfSVM(X_train, y_train, X_test, y_test, C)\n",
        "    sigmoidSVM(X_train, y_train, X_test, y_test, C)\n",
        "    precomputedSVM(X_train, y_train, X_test, y_test, C)\n",
        "    mklSVM(X_train, y_train, X_test, y_test, C)"
      ]
    },
    {
      "cell_type": "markdown",
      "metadata": {
        "id": "Cf8KtQKO6lZc"
      },
      "source": [
        "### Test Case 01"
      ]
    },
    {
      "cell_type": "code",
      "execution_count": null,
      "metadata": {
        "id": "qwn68O9N6lZd",
        "outputId": "6f6e9a65-cf32-4885-aba9-646e3ca61aca"
      },
      "outputs": [
        {
          "name": "stdout",
          "output_type": "stream",
          "text": [
            "Results\n",
            "+-------------+-----+----------------+----------+\n",
            "|    Kernel   |  C  |     Degree     | Accuracy |\n",
            "+-------------+-----+----------------+----------+\n",
            "|    Linear   | 0.6 | Not Applicable |  0.9909  |\n",
            "|  Polynomial | 0.6 |       2        |  0.9472  |\n",
            "|     rbf     | 0.6 | Not Applicable |  0.9945  |\n",
            "|   sigmoid   | 0.6 | Not Applicable |  0.6958  |\n",
            "| Precomputed | 0.6 | Not Applicable |  0.9909  |\n",
            "| MultiKernel | 0.6 | Not Applicable |  0.9800  |\n",
            "+-------------+-----+----------------+----------+\n"
          ]
        }
      ],
      "source": [
        "# Making a Table to store the results\n",
        "myTable = PrettyTable(['Kernel', 'C', 'Degree', 'Accuracy'])\n",
        "multiKernelSVM(X_train, y_train, X_test, y_test, C=0.6, degree=2)\n",
        "print('Results')\n",
        "print(myTable)"
      ]
    },
    {
      "cell_type": "markdown",
      "metadata": {
        "id": "jj9ICrIq6lZe"
      },
      "source": [
        "### Test Case 02"
      ]
    },
    {
      "cell_type": "code",
      "execution_count": null,
      "metadata": {
        "id": "PC4BYSZt6lZe",
        "outputId": "70dd9369-9c6e-445d-cb75-984274217e2f"
      },
      "outputs": [
        {
          "name": "stdout",
          "output_type": "stream",
          "text": [
            "Results\n",
            "+-------------+-----+----------------+----------+\n",
            "|    Kernel   |  C  |     Degree     | Accuracy |\n",
            "+-------------+-----+----------------+----------+\n",
            "|    Linear   | 0.4 | Not Applicable |  0.9909  |\n",
            "|  Polynomial | 0.4 |       4        |  0.8361  |\n",
            "|     rbf     | 0.4 | Not Applicable |  0.9927  |\n",
            "|   sigmoid   | 0.4 | Not Applicable |  0.7049  |\n",
            "| Precomputed | 0.4 | Not Applicable |  0.9909  |\n",
            "| MultiKernel | 0.4 | Not Applicable |  0.5301  |\n",
            "+-------------+-----+----------------+----------+\n"
          ]
        }
      ],
      "source": [
        "# Making a Table to store the results\n",
        "myTable = PrettyTable(['Kernel', 'C', 'Degree', 'Accuracy'])\n",
        "multiKernelSVM(X_train, y_train, X_test, y_test, C=0.4,degree=4)\n",
        "print('Results')\n",
        "print(myTable)"
      ]
    },
    {
      "cell_type": "markdown",
      "metadata": {
        "id": "BiHH_yfN6lZf"
      },
      "source": [
        "### Test Case 03"
      ]
    },
    {
      "cell_type": "code",
      "execution_count": null,
      "metadata": {
        "id": "9d_T_M-p6lZg",
        "outputId": "324451b7-ee03-4513-f660-0c15982f072e"
      },
      "outputs": [
        {
          "name": "stdout",
          "output_type": "stream",
          "text": [
            "Results\n",
            "+-------------+-----+----------------+----------+\n",
            "|    Kernel   |  C  |     Degree     | Accuracy |\n",
            "+-------------+-----+----------------+----------+\n",
            "|    Linear   | 0.9 | Not Applicable |  0.9854  |\n",
            "|  Polynomial | 0.9 |       1        |  0.9800  |\n",
            "|     rbf     | 0.9 | Not Applicable |  0.9945  |\n",
            "|   sigmoid   | 0.9 | Not Applicable |  0.6885  |\n",
            "| Precomputed | 0.9 | Not Applicable |  0.9854  |\n",
            "| MultiKernel | 0.9 | Not Applicable |  0.4444  |\n",
            "+-------------+-----+----------------+----------+\n"
          ]
        }
      ],
      "source": [
        "# Making a Table to store the results\n",
        "myTable = PrettyTable(['Kernel', 'C', 'Degree', 'Accuracy'])\n",
        "multiKernelSVM(X_train, y_train, X_test, y_test, C=0.9, degree=1)\n",
        "print('Results')\n",
        "print(myTable)"
      ]
    },
    {
      "cell_type": "markdown",
      "metadata": {
        "id": "Hn2ifL1P6lZh"
      },
      "source": [
        "### Test Case 04"
      ]
    },
    {
      "cell_type": "code",
      "execution_count": null,
      "metadata": {
        "id": "SBKYRjiB6lZi",
        "outputId": "1e3e6c0c-4a96-4e0a-9dbb-b7ecdbf11794"
      },
      "outputs": [
        {
          "name": "stdout",
          "output_type": "stream",
          "text": [
            "Results\n",
            "+-------------+-----+----------------+----------+\n",
            "|    Kernel   |  C  |     Degree     | Accuracy |\n",
            "+-------------+-----+----------------+----------+\n",
            "|    Linear   | 0.1 | Not Applicable |  0.9854  |\n",
            "|  Polynomial | 0.1 |       2        |  0.8944  |\n",
            "|     rbf     | 0.1 | Not Applicable |  0.9872  |\n",
            "|   sigmoid   | 0.1 | Not Applicable |  0.7395  |\n",
            "| Precomputed | 0.1 | Not Applicable |  0.9854  |\n",
            "| MultiKernel | 0.1 | Not Applicable |  0.9508  |\n",
            "+-------------+-----+----------------+----------+\n"
          ]
        }
      ],
      "source": [
        "# Making a Table to store the results\n",
        "myTable = PrettyTable(['Kernel', 'C', 'Degree', 'Accuracy'])\n",
        "multiKernelSVM(X_train, y_train, X_test, y_test, C=0.1, degree=2)\n",
        "print('Results')\n",
        "print(myTable)"
      ]
    },
    {
      "cell_type": "markdown",
      "metadata": {
        "id": "_4Rw7EnD6lZj"
      },
      "source": [
        "### Test Case 05"
      ]
    },
    {
      "cell_type": "code",
      "execution_count": null,
      "metadata": {
        "id": "6s0JS54b6lZk",
        "outputId": "696627f6-9bbd-40d1-9449-83fb979ee1fe"
      },
      "outputs": [
        {
          "name": "stdout",
          "output_type": "stream",
          "text": [
            "Results\n",
            "+-------------+-----+----------------+----------+\n",
            "|    Kernel   |  C  |     Degree     | Accuracy |\n",
            "+-------------+-----+----------------+----------+\n",
            "|    Linear   | 0.3 | Not Applicable |  0.9909  |\n",
            "|  Polynomial | 0.3 |       10       |  0.7195  |\n",
            "|     rbf     | 0.3 | Not Applicable |  0.9927  |\n",
            "|   sigmoid   | 0.3 | Not Applicable |  0.7049  |\n",
            "| Precomputed | 0.3 | Not Applicable |  0.9909  |\n",
            "| MultiKernel | 0.3 | Not Applicable |  0.6776  |\n",
            "+-------------+-----+----------------+----------+\n"
          ]
        }
      ],
      "source": [
        "# Making a Table to store the results\n",
        "myTable = PrettyTable(['Kernel', 'C', 'Degree', 'Accuracy'])\n",
        "multiKernelSVM(X_train, y_train, X_test, y_test, C=0.3, degree=10)\n",
        "print('Results')\n",
        "print(myTable)"
      ]
    }
  ],
  "metadata": {
    "interpreter": {
      "hash": "bd56039335c47067d8c3a953f4592db9a7a56c2189bff1caacaa2ce04817bc78"
    },
    "kernelspec": {
      "display_name": "Python 3.9.12 ('ML_LAB')",
      "language": "python",
      "name": "python3"
    },
    "language_info": {
      "codemirror_mode": {
        "name": "ipython",
        "version": 3
      },
      "file_extension": ".py",
      "mimetype": "text/x-python",
      "name": "python",
      "nbconvert_exporter": "python",
      "pygments_lexer": "ipython3",
      "version": "3.9.12"
    },
    "orig_nbformat": 4,
    "colab": {
      "provenance": []
    }
  },
  "nbformat": 4,
  "nbformat_minor": 0
}